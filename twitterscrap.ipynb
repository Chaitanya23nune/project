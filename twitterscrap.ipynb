{
 "cells": [
  {
   "cell_type": "code",
   "execution_count": 1,
   "metadata": {},
   "outputs": [
    {
     "name": "stdout",
     "output_type": "stream",
     "text": [
      "Collecting googletrans\n",
      "  Using cached googletrans-3.0.0-py3-none-any.whl\n",
      "Collecting httpx==0.13.3\n",
      "  Downloading httpx-0.13.3-py3-none-any.whl (55 kB)\n",
      "     -------------------------------------- 55.1/55.1 KB 954.5 kB/s eta 0:00:00\n",
      "Collecting hstspreload\n",
      "  Downloading hstspreload-2023.1.1-py3-none-any.whl (1.5 MB)\n",
      "     ---------------------------------------- 1.5/1.5 MB 5.2 MB/s eta 0:00:00\n",
      "Collecting rfc3986<2,>=1.3\n",
      "  Using cached rfc3986-1.5.0-py2.py3-none-any.whl (31 kB)\n",
      "Requirement already satisfied: sniffio in c:\\users\\amrit\\appdata\\local\\packages\\pythonsoftwarefoundation.python.3.9_qbz5n2kfra8p0\\localcache\\local-packages\\python39\\site-packages (from httpx==0.13.3->googletrans) (1.2.0)\n",
      "Collecting chardet==3.*\n",
      "  Using cached chardet-3.0.4-py2.py3-none-any.whl (133 kB)\n",
      "Collecting httpcore==0.9.*\n",
      "  Downloading httpcore-0.9.1-py3-none-any.whl (42 kB)\n",
      "     ---------------------------------------- 42.6/42.6 KB ? eta 0:00:00\n",
      "Requirement already satisfied: certifi in c:\\users\\amrit\\appdata\\local\\packages\\pythonsoftwarefoundation.python.3.9_qbz5n2kfra8p0\\localcache\\local-packages\\python39\\site-packages (from httpx==0.13.3->googletrans) (2022.6.15)\n",
      "Collecting idna==2.*\n",
      "  Using cached idna-2.10-py2.py3-none-any.whl (58 kB)\n",
      "Collecting h11<0.10,>=0.8\n",
      "  Downloading h11-0.9.0-py2.py3-none-any.whl (53 kB)\n",
      "     ---------------------------------------- 53.6/53.6 KB ? eta 0:00:00\n",
      "Collecting h2==3.*\n",
      "  Using cached h2-3.2.0-py2.py3-none-any.whl (65 kB)\n",
      "Collecting hpack<4,>=3.0\n",
      "  Using cached hpack-3.0.0-py2.py3-none-any.whl (38 kB)\n",
      "Collecting hyperframe<6,>=5.2.0\n",
      "  Using cached hyperframe-5.2.0-py2.py3-none-any.whl (12 kB)\n",
      "Installing collected packages: rfc3986, hyperframe, hpack, h11, chardet, idna, hstspreload, h2, httpcore, httpx, googletrans\n",
      "  Attempting uninstall: h11\n",
      "    Found existing installation: h11 0.13.0\n",
      "    Uninstalling h11-0.13.0:\n",
      "      Successfully uninstalled h11-0.13.0\n",
      "  Attempting uninstall: chardet\n",
      "    Found existing installation: chardet 5.2.0\n",
      "    Uninstalling chardet-5.2.0:\n",
      "      Successfully uninstalled chardet-5.2.0\n",
      "  Attempting uninstall: idna\n",
      "    Found existing installation: idna 3.3\n",
      "    Uninstalling idna-3.3:\n",
      "      Successfully uninstalled idna-3.3\n",
      "Successfully installed chardet-3.0.4 googletrans-3.0.0 h11-0.9.0 h2-3.2.0 hpack-3.0.0 hstspreload-2023.1.1 httpcore-0.9.1 httpx-0.13.3 hyperframe-5.2.0 idna-2.10 rfc3986-1.5.0\n",
      "Note: you may need to restart the kernel to use updated packages.\n"
     ]
    },
    {
     "name": "stderr",
     "output_type": "stream",
     "text": [
      "WARNING: Ignoring invalid distribution -illow (c:\\users\\amrit\\appdata\\local\\packages\\pythonsoftwarefoundation.python.3.9_qbz5n2kfra8p0\\localcache\\local-packages\\python39\\site-packages)\n",
      "WARNING: Ignoring invalid distribution -illow (c:\\users\\amrit\\appdata\\local\\packages\\pythonsoftwarefoundation.python.3.9_qbz5n2kfra8p0\\localcache\\local-packages\\python39\\site-packages)\n",
      "WARNING: Ignoring invalid distribution -illow (c:\\users\\amrit\\appdata\\local\\packages\\pythonsoftwarefoundation.python.3.9_qbz5n2kfra8p0\\localcache\\local-packages\\python39\\site-packages)\n",
      "    WARNING: Ignoring invalid distribution -illow (c:\\users\\amrit\\appdata\\local\\packages\\pythonsoftwarefoundation.python.3.9_qbz5n2kfra8p0\\localcache\\local-packages\\python39\\site-packages)\n",
      "    WARNING: Ignoring invalid distribution -illow (c:\\users\\amrit\\appdata\\local\\packages\\pythonsoftwarefoundation.python.3.9_qbz5n2kfra8p0\\localcache\\local-packages\\python39\\site-packages)\n",
      "    WARNING: Ignoring invalid distribution -illow (c:\\users\\amrit\\appdata\\local\\packages\\pythonsoftwarefoundation.python.3.9_qbz5n2kfra8p0\\localcache\\local-packages\\python39\\site-packages)\n",
      "WARNING: Ignoring invalid distribution -illow (c:\\users\\amrit\\appdata\\local\\packages\\pythonsoftwarefoundation.python.3.9_qbz5n2kfra8p0\\localcache\\local-packages\\python39\\site-packages)\n",
      "WARNING: Ignoring invalid distribution -illow (c:\\users\\amrit\\appdata\\local\\packages\\pythonsoftwarefoundation.python.3.9_qbz5n2kfra8p0\\localcache\\local-packages\\python39\\site-packages)\n",
      "WARNING: Ignoring invalid distribution -illow (c:\\users\\amrit\\appdata\\local\\packages\\pythonsoftwarefoundation.python.3.9_qbz5n2kfra8p0\\localcache\\local-packages\\python39\\site-packages)\n",
      "WARNING: Ignoring invalid distribution -illow (c:\\users\\amrit\\appdata\\local\\packages\\pythonsoftwarefoundation.python.3.9_qbz5n2kfra8p0\\localcache\\local-packages\\python39\\site-packages)\n",
      "WARNING: Ignoring invalid distribution -illow (c:\\users\\amrit\\appdata\\local\\packages\\pythonsoftwarefoundation.python.3.9_qbz5n2kfra8p0\\localcache\\local-packages\\python39\\site-packages)\n",
      "WARNING: Ignoring invalid distribution -illow (c:\\users\\amrit\\appdata\\local\\packages\\pythonsoftwarefoundation.python.3.9_qbz5n2kfra8p0\\localcache\\local-packages\\python39\\site-packages)\n",
      "WARNING: Ignoring invalid distribution -illow (c:\\users\\amrit\\appdata\\local\\packages\\pythonsoftwarefoundation.python.3.9_qbz5n2kfra8p0\\localcache\\local-packages\\python39\\site-packages)\n",
      "WARNING: Ignoring invalid distribution -illow (c:\\users\\amrit\\appdata\\local\\packages\\pythonsoftwarefoundation.python.3.9_qbz5n2kfra8p0\\localcache\\local-packages\\python39\\site-packages)\n",
      "WARNING: Ignoring invalid distribution -illow (c:\\users\\amrit\\appdata\\local\\packages\\pythonsoftwarefoundation.python.3.9_qbz5n2kfra8p0\\localcache\\local-packages\\python39\\site-packages)\n",
      "WARNING: Ignoring invalid distribution -illow (c:\\users\\amrit\\appdata\\local\\packages\\pythonsoftwarefoundation.python.3.9_qbz5n2kfra8p0\\localcache\\local-packages\\python39\\site-packages)\n",
      "WARNING: Ignoring invalid distribution -illow (c:\\users\\amrit\\appdata\\local\\packages\\pythonsoftwarefoundation.python.3.9_qbz5n2kfra8p0\\localcache\\local-packages\\python39\\site-packages)\n",
      "WARNING: Ignoring invalid distribution -illow (c:\\users\\amrit\\appdata\\local\\packages\\pythonsoftwarefoundation.python.3.9_qbz5n2kfra8p0\\localcache\\local-packages\\python39\\site-packages)\n",
      "WARNING: Ignoring invalid distribution -illow (c:\\users\\amrit\\appdata\\local\\packages\\pythonsoftwarefoundation.python.3.9_qbz5n2kfra8p0\\localcache\\local-packages\\python39\\site-packages)\n",
      "WARNING: Ignoring invalid distribution -illow (c:\\users\\amrit\\appdata\\local\\packages\\pythonsoftwarefoundation.python.3.9_qbz5n2kfra8p0\\localcache\\local-packages\\python39\\site-packages)\n",
      "WARNING: You are using pip version 22.0.4; however, version 23.3.1 is available.\n",
      "You should consider upgrading via the 'C:\\Users\\amrit\\AppData\\Local\\Microsoft\\WindowsApps\\PythonSoftwareFoundation.Python.3.9_qbz5n2kfra8p0\\python.exe -m pip install --upgrade pip' command.\n"
     ]
    }
   ],
   "source": [
    "pip install googletrans"
   ]
  },
  {
   "cell_type": "code",
   "execution_count": 2,
   "metadata": {},
   "outputs": [],
   "source": [
    "# Set up the Selenium WebDriver (replace with the path to your ChromeDriver)\n",
    "from selenium import webdriver\n",
    "from selenium.webdriver.common.keys import Keys\n",
    "\n",
    "from selenium import webdriver\n",
    "import chromedriver_binary\n",
    "from urllib.request import urlopen\n",
    "from selenium.webdriver.support.select import Select\n",
    "from selenium.webdriver.support.ui import WebDriverWait\n",
    "from selenium.webdriver.support import expected_conditions as EC\n",
    "from selenium import webdriver as selenium_webdriver\n",
    "import time\n",
    "from selenium.webdriver.chrome.service import Service\n",
    "import pandas as pd\n",
    "from selenium.webdriver.common.by import By\n",
    "\n",
    "service = Service(executable_path=r'C:\\Users\\amrit\\Desktop\\twitter_deploy\\chromedriver.exe')\n",
    "options = webdriver.ChromeOptions()\n",
    "driver = webdriver.Chrome(service=service, options=options)\n",
    "# pswd=scrapy673002\n",
    "# user=scrapy632356143\n",
    "\n",
    "driver.get(\"https://twitter.com/explore\")\n",
    "driver.maximize_window()\n",
    "time.sleep(3)"
   ]
  },
  {
   "cell_type": "code",
   "execution_count": 8,
   "metadata": {},
   "outputs": [],
   "source": [
    "username = driver.find_element(By.CLASS_NAME,\"r-1dz5y72.r-13qz1uu\")     \n",
    "# username.click()\n",
    "username.send_keys(\"scrapy632356143\")  \n",
    "time.sleep(3)                      \n",
    "next=driver.find_element(By.XPATH,'//*[@id=\"layers\"]/div/div/div/div/div/div/div[2]/div[2]/div/div/div[2]/div[2]/div/div/div/div[6]/div')\n",
    "next.click()\n",
    "time.sleep(3)\n",
    "password = driver.find_element(By.CLASS_NAME,\"r-deolkf.r-homxoj \")     \n",
    "# password.click()\n",
    "password.send_keys(\"scrapy673002\")  \n",
    "time.sleep(3)                        \n",
    "login=driver.find_element(By.XPATH,'//*[@id=\"layers\"]/div/div/div/div/div/div/div[2]/div[2]/div/div/div[2]/div[2]/div[2]/div/div[1]/div/div/div/div')\n",
    "login.click()\n",
    "time.sleep(4)"
   ]
  },
  {
   "cell_type": "code",
   "execution_count": 10,
   "metadata": {},
   "outputs": [],
   "source": [
    "explore=driver.find_element(By.XPATH,'//*[@data-testid=\"AppTabBar_Explore_Link\"]')\n",
    "explore.click()\n",
    "time.sleep(2)\n",
    "\n",
    "search_xpath = '//*[@id=\"react-root\"]/div/div/div[2]/main/div/div/div/div/div/div[1]/div[1]/div[1]/div/div/div/div/div[1]/div[2]/div/div/div/form/div[1]/div/div/div/label/div[2]/div/input'\n",
    "\n",
    "# Find the search element and send keys\n",
    "search_element = driver.find_element(By.XPATH, search_xpath)\n",
    "search_element.send_keys('navakerala')\n",
    "search_element.send_keys(Keys.ENTER)\n",
    "time.sleep(3)"
   ]
  },
  {
   "cell_type": "code",
   "execution_count": 12,
   "metadata": {},
   "outputs": [
    {
     "name": "stdout",
     "output_type": "stream",
     "text": [
      "Grateful for the special invitation to the prestigious Navakerala Gathering and honored to be one of the seven awardees for our outstanding performance in Veterinary Healthcare. A proud moment for our team! Thank you for the support and guidance\n",
      "Let’s do one more Navakerala Yatra.\n",
      "Global Investors Conference to Ensure Tamil Nadu's 1 Trillion Dollar Economic Development! - @irfansviewX  #TNGIM2024 \n",
      "\n",
      "https://x.com/i/spaces/1OyKAWqWZPNJb…\n",
      "#Kerala: BJP supporters stage protest holding black balloons against allotting 'Saraswati Mandapam' adjacent to Saraswati temple, Poojappura as the organising committee office of Navakerala Sadasu. #Police use water canons to disperse the protestors. \n",
      "\n",
      "( ANI )\n",
      "Navakerala Sadas is a good thing. But, it shouldn't stop there.\n",
      "\n",
      "Here's what govt can do to make it better.\n",
      "\n",
      "Create an online ticket based portal where people can register with their phone numbers, video verification through self recorded 30 second clip is must to avoid\n",
      "\n",
      "1/N\n",
      "See the difference between two buses..\n",
      "\n",
      "1. Bus to Sabarimala with Lord Ayyappan's devotees. And it is sponsored by Pinarayi Government. \n",
      "\n",
      "2.Navakerala bus for Pinarayi and his 20 ministers. For this, fund from the tax payers of Kerala\n",
      "\n",
      "Swami saranam \n",
      "Thrilled to witness the united spirit at the Navakerala Sadas in Thalassery Cricket Stadium!  Celebrating the success of Thalassery Constituency Nava Kerala Sadas, it's a testament to the community's support for the government's dedication to welfare and development. #kerala\n",
      "On the second day of Navakerala Sadas in Kollam, a total of 21,298 submissions were recorded. Among these, Karunagapally had 7,768 submissions, Chavara had 5,049, Kundara had 4,854, and Kollam had 3,627 petitions.\n",
      "\n",
      "#navakeralasadas #NavaKeralam\n",
      "केरलमेम गुस्थि दिल्लीमेम दोस्ती\n",
      "\n",
      "Congress-CPM clashes remain serious across Kerala,Opposition.leader and Youth Cong.president among injured \n",
      "\n",
      "Police & Comrades together brutally attack Youth Congress workers protesting against CM&Ministers “Navakerala Yatra” across Kerala\n"
     ]
    }
   ],
   "source": [
    "total_height = int(driver.execute_script(\"return document.body.scrollHeight\"))\n",
    "for i in range(1, total_height, 5):\n",
    "    driver.execute_script(\"window.scrollTo(0, {});\".format(i))\n",
    "data= driver.find_elements(By.XPATH,'//*[@data-testid=\"tweetText\"]')\n",
    "twit1=[]\n",
    "\n",
    "for d in data:\n",
    "    print(d.text)\n",
    "    twit1.append(d.text)"
   ]
  },
  {
   "cell_type": "code",
   "execution_count": 13,
   "metadata": {},
   "outputs": [
    {
     "data": {
      "text/plain": [
       "['Grateful for the special invitation to the prestigious Navakerala Gathering and honored to be one of the seven awardees for our outstanding performance in Veterinary Healthcare. A proud moment for our team! Thank you for the support and guidance',\n",
       " 'Let’s do one more Navakerala Yatra.',\n",
       " \"Global Investors Conference to Ensure Tamil Nadu's 1 Trillion Dollar Economic Development! - @irfansviewX  #TNGIM2024 \\n\\nhttps://x.com/i/spaces/1OyKAWqWZPNJb…\",\n",
       " \"#Kerala: BJP supporters stage protest holding black balloons against allotting 'Saraswati Mandapam' adjacent to Saraswati temple, Poojappura as the organising committee office of Navakerala Sadasu. #Police use water canons to disperse the protestors. \\n\\n( ANI )\",\n",
       " \"Navakerala Sadas is a good thing. But, it shouldn't stop there.\\n\\nHere's what govt can do to make it better.\\n\\nCreate an online ticket based portal where people can register with their phone numbers, video verification through self recorded 30 second clip is must to avoid\\n\\n1/N\",\n",
       " \"See the difference between two buses..\\n\\n1. Bus to Sabarimala with Lord Ayyappan's devotees. And it is sponsored by Pinarayi Government. \\n\\n2.Navakerala bus for Pinarayi and his 20 ministers. For this, fund from the tax payers of Kerala\\n\\nSwami saranam \",\n",
       " \"Thrilled to witness the united spirit at the Navakerala Sadas in Thalassery Cricket Stadium!  Celebrating the success of Thalassery Constituency Nava Kerala Sadas, it's a testament to the community's support for the government's dedication to welfare and development. #kerala\",\n",
       " 'On the second day of Navakerala Sadas in Kollam, a total of 21,298 submissions were recorded. Among these, Karunagapally had 7,768 submissions, Chavara had 5,049, Kundara had 4,854, and Kollam had 3,627 petitions.\\n\\n#navakeralasadas #NavaKeralam',\n",
       " 'केरलमेम गुस्थि दिल्लीमेम दोस्ती\\n\\nCongress-CPM clashes remain serious across Kerala,Opposition.leader and Youth Cong.president among injured \\n\\nPolice & Comrades together brutally attack Youth Congress workers protesting against CM&Ministers “Navakerala Yatra” across Kerala']"
      ]
     },
     "execution_count": 13,
     "metadata": {},
     "output_type": "execute_result"
    }
   ],
   "source": [
    "twit1"
   ]
  },
  {
   "cell_type": "code",
   "execution_count": 14,
   "metadata": {},
   "outputs": [
    {
     "data": {
      "text/plain": [
       "9"
      ]
     },
     "execution_count": 14,
     "metadata": {},
     "output_type": "execute_result"
    }
   ],
   "source": [
    "len(twit1)"
   ]
  },
  {
   "cell_type": "code",
   "execution_count": null,
   "metadata": {},
   "outputs": [],
   "source": [
    "\n",
    "# data= driver.find_elements(By.XPATH,'//*[@data-testid=\"tweetText\"]')\n",
    "# twit1=[]\n",
    "\n",
    "# for d in data:\n",
    "#     print(d.text)\n",
    "#     twit1.append(d.text)"
   ]
  },
  {
   "cell_type": "code",
   "execution_count": 81,
   "metadata": {},
   "outputs": [
    {
     "data": {
      "text/plain": [
       "5"
      ]
     },
     "execution_count": 81,
     "metadata": {},
     "output_type": "execute_result"
    }
   ],
   "source": [
    "len(twit1)"
   ]
  },
  {
   "cell_type": "code",
   "execution_count": 35,
   "metadata": {},
   "outputs": [],
   "source": [
    "# twit1=twit+twits"
   ]
  },
  {
   "cell_type": "code",
   "execution_count": 48,
   "metadata": {},
   "outputs": [],
   "source": [
    "twit1=['Visited (for the first time) the legendary Oachira Temple, where there is neither a structure nor an idol, but a famous forested area consecrated to the ParaBrahman. Addressed a cultural sammelanam during the annual Vrischika festival there and spoke of the original concept of…',\n",
    " 'Visited the \\n@INCKerala\\n Block Committee Office in Karunagappally along with our excellent MLA \\n@crmahesh\\n. Always great to connect to the grassroots of our party, where the real work is done',\n",
    " 'Inaugurated a wonderful celebration of unsung philanthropists — ordinary people who have selflessly helped others in distress. Gave five such “Nattunanma Purasakaram” awards under the auspices of My Radio 91.2 and My Reading Room (led by AnilMohammed \\n@kmmanil\\n) in Karungapally.…',\n",
    " 'Before the function began, got roped in to singing “Main Shayar to Nahin” for the audience! And after the function, donned my literary hat by receiving the first copy of a new novel by T. Omanakuttan Magna, alongside MLA \\n@crmahesh',\n",
    " 'Inaugurated the newly-elected students union of the TKM Engineering College, Kollam. Spoke of the nature and importance of student politics as part of one’s growing up as a member of society, channelling the idealism of youth & their urgent desire to bring about positive change.',\n",
    " 'Since TKM College is the alma mater of \\n@isro\\n chief \\n@DrSomanath_ISRO\\n, the college invited me to honour some of the over 40 alumni who are now ISRO scientists. They are responsible for key aspects of our space programme, ranging from the moon lander to propulsion systems and…',\n",
    " 'Honoured the victorious \\n@nsui\\n-affiliated KSU Students of the AJ College of Engineering, Thiruvananthapuram  who have captured the Union after many years',\n",
    " 'On Monday morning, visited the “California Gate” of the Technopark , which had been abruptly closed by the new CEO on “security grounds” following the completely unrelated Kalamassery bomb blast. Met with the small shopkeepers who are out of business as a result, spoke with…',\n",
    " 'On Monday morning, visited the “California Gate” of the Technopark , which had been abruptly closed by the new CEO on “security grounds” following the completely unrelated Kalamassery bomb blast. Met with the small shopkeepers who are out of business as a result, spoke with…',\n",
    " 'After my political commitments & a traffic jam forced me to miss the first 17 overs of #INDvAUS in Thiruvananthapuram’s splendid world-class stadium, enjoyed the rest of the match in good company (including a pair of Australians who gamely avoided showing their disappointment)!…',\n",
    " 'Attended the colourful annual feast of the Latin Catholic Vettucaud Church. The crowds, the atmosphere and the lights in multiple colours were extraordinary!',\n",
    " 'Listened to a brilliant sermon from Archbishop Thomas Netto, whose remarkable speech weaved together the story of the Blessed Martín of Tours, the crises in Gaza and Ukraine, and the plight of the poor in a compelling manner to a massive audience of over a lakh parishioners. Paid…',\n",
    " 'Always a pleasure to attend the weddings of my constituents and extend my good wishes for a long and blissful married life! Dropped in on two weddings on Sunday',\n",
    " 'Attended the consecration of the newly-renovated 52-year old CSI Church in rural Olathanni and was given the honour of addressing the congregation alongside the retiring Bishop of Kollam, Oommen George',\n",
    " 'Touched to receive the blessings of the Bishop on this special occasion',\n",
    " 'Met with the \\n@INCKerala\\n  Kovalam assembly constituency party workers. We had a record majority in that segment in the last Lok Sabha elections, and discussed how to even improve upon it.',\n",
    " 'Continued the series of constituency preparation meetings, by organising a discussion at the \\n@INCKerala\\n District Congress Committee headquarters, Thiruvananthapuram, with party workers from the Nemom assembly constituency. A good and focused discussion about the challenges and…',\n",
    "'The entire state is in shock over the stampede that unfolded at CUSAT University in Ernakulam. Heartfelt condolences go out to the family members of the four students who lost their lives. Immediate and enhanced treatment facilities have been arranged for the injured. P. Rajeev, the Minister for Industries, and R. Bindu, the Minister of Higher Education, have departed for Ernakulam to assess the situation directly. A thorough investigation into the incident will commence without delay.',\"Grateful for the energising discussions during today's #NavaKeralaSadas in Kozhikode district. Our visits to Vatakara, Kuttiady, Nadapuram, and Perambra constituencies reinforced the collective dedication of the people to Kerala's progress. The diverse perspectives shared will guide our ongoing efforts to build a more prosperous and developed state.\"\n",
    "'With tens of thousands in attendance at various venues, #NavaKeralaSadas is making history as a unique step in the annals of democratic policymaking. Today, the entire Kerala cabinet visited four constituencies in the Kasaragod district and interacted with people from all walks of life. The grand reception of NavaKerala Sadas will continue to gain strength in the coming days as we stride forward to build a new Kerala.',\n",
    "'The fifth edition of #HuddleGlobal witnessed the illustrious presence of South African cricket icon @JontyRhodes8  as a distinguished speaker! Renowned for his unparalleled fielding prowess, Rhodes, now an entrepreneur, not only shared invaluable tips but also fervently motivated the enthusiastic delegates in attendance. What an exhilarating and inspiring visit it was!',\n",
    "\"The #NavaKeralaSadas, monthlong outreach programme of GoK, will see Kerala's entire cabinet visiting 140 constituencies, interacting with people. It will script history as an innovative approach towards enhancing democratic participation and laying the foundations for a new Kerala..\"]"
   ]
  },
  {
   "cell_type": "code",
   "execution_count": null,
   "metadata": {},
   "outputs": [],
   "source": []
  },
  {
   "cell_type": "code",
   "execution_count": 50,
   "metadata": {},
   "outputs": [],
   "source": [
    "# df=pd.DataFrame({'post':twit1})\n",
    "# df.to_csv('twitter_data.csv')\n"
   ]
  },
  {
   "cell_type": "code",
   "execution_count": null,
   "metadata": {},
   "outputs": [],
   "source": []
  },
  {
   "cell_type": "code",
   "execution_count": null,
   "metadata": {},
   "outputs": [],
   "source": [
    "#NLP"
   ]
  },
  {
   "cell_type": "markdown",
   "metadata": {},
   "source": [
    "# NLP"
   ]
  },
  {
   "cell_type": "code",
   "execution_count": 52,
   "metadata": {},
   "outputs": [
    {
     "name": "stdout",
     "output_type": "stream",
     "text": [
      "Requirement already satisfied: pandas in c:\\users\\amrit\\appdata\\local\\packages\\pythonsoftwarefoundation.python.3.9_qbz5n2kfra8p0\\localcache\\local-packages\\python39\\site-packages (1.4.1)Note: you may need to restart the kernel to use updated packages.\n"
     ]
    },
    {
     "name": "stderr",
     "output_type": "stream",
     "text": [
      "WARNING: Ignoring invalid distribution -illow (c:\\users\\amrit\\appdata\\local\\packages\\pythonsoftwarefoundation.python.3.9_qbz5n2kfra8p0\\localcache\\local-packages\\python39\\site-packages)\n",
      "WARNING: Ignoring invalid distribution -illow (c:\\users\\amrit\\appdata\\local\\packages\\pythonsoftwarefoundation.python.3.9_qbz5n2kfra8p0\\localcache\\local-packages\\python39\\site-packages)\n",
      "WARNING: Ignoring invalid distribution -illow (c:\\users\\amrit\\appdata\\local\\packages\\pythonsoftwarefoundation.python.3.9_qbz5n2kfra8p0\\localcache\\local-packages\\python39\\site-packages)\n",
      "WARNING: Ignoring invalid distribution -illow (c:\\users\\amrit\\appdata\\local\\packages\\pythonsoftwarefoundation.python.3.9_qbz5n2kfra8p0\\localcache\\local-packages\\python39\\site-packages)\n",
      "WARNING: Ignoring invalid distribution -illow (c:\\users\\amrit\\appdata\\local\\packages\\pythonsoftwarefoundation.python.3.9_qbz5n2kfra8p0\\localcache\\local-packages\\python39\\site-packages)\n",
      "WARNING: Ignoring invalid distribution -illow (c:\\users\\amrit\\appdata\\local\\packages\\pythonsoftwarefoundation.python.3.9_qbz5n2kfra8p0\\localcache\\local-packages\\python39\\site-packages)\n",
      "WARNING: Ignoring invalid distribution -illow (c:\\users\\amrit\\appdata\\local\\packages\\pythonsoftwarefoundation.python.3.9_qbz5n2kfra8p0\\localcache\\local-packages\\python39\\site-packages)\n",
      "WARNING: Ignoring invalid distribution -illow (c:\\users\\amrit\\appdata\\local\\packages\\pythonsoftwarefoundation.python.3.9_qbz5n2kfra8p0\\localcache\\local-packages\\python39\\site-packages)\n",
      "WARNING: You are using pip version 22.0.4; however, version 23.3.1 is available.\n",
      "You should consider upgrading via the 'C:\\Users\\amrit\\AppData\\Local\\Microsoft\\WindowsApps\\PythonSoftwareFoundation.Python.3.9_qbz5n2kfra8p0\\python.exe -m pip install --upgrade pip' command.\n"
     ]
    },
    {
     "name": "stdout",
     "output_type": "stream",
     "text": [
      "\n",
      "Requirement already satisfied: scikit-learn in c:\\users\\amrit\\appdata\\local\\packages\\pythonsoftwarefoundation.python.3.9_qbz5n2kfra8p0\\localcache\\local-packages\\python39\\site-packages (1.0.2)\n",
      "Collecting nltk\n",
      "  Downloading nltk-3.8.1-py3-none-any.whl (1.5 MB)\n",
      "     ---------------------------------------- 1.5/1.5 MB 3.6 MB/s eta 0:00:00\n",
      "Requirement already satisfied: numpy>=1.18.5 in c:\\users\\amrit\\appdata\\local\\packages\\pythonsoftwarefoundation.python.3.9_qbz5n2kfra8p0\\localcache\\local-packages\\python39\\site-packages (from pandas) (1.24.4)\n",
      "Requirement already satisfied: python-dateutil>=2.8.1 in c:\\users\\amrit\\appdata\\local\\packages\\pythonsoftwarefoundation.python.3.9_qbz5n2kfra8p0\\localcache\\local-packages\\python39\\site-packages (from pandas) (2.8.2)\n",
      "Requirement already satisfied: pytz>=2020.1 in c:\\users\\amrit\\appdata\\local\\packages\\pythonsoftwarefoundation.python.3.9_qbz5n2kfra8p0\\localcache\\local-packages\\python39\\site-packages (from pandas) (2022.1)\n",
      "Requirement already satisfied: joblib>=0.11 in c:\\users\\amrit\\appdata\\local\\packages\\pythonsoftwarefoundation.python.3.9_qbz5n2kfra8p0\\localcache\\local-packages\\python39\\site-packages (from scikit-learn) (1.1.0)\n",
      "Requirement already satisfied: scipy>=1.1.0 in c:\\users\\amrit\\appdata\\local\\packages\\pythonsoftwarefoundation.python.3.9_qbz5n2kfra8p0\\localcache\\local-packages\\python39\\site-packages (from scikit-learn) (1.8.0)\n",
      "Requirement already satisfied: threadpoolctl>=2.0.0 in c:\\users\\amrit\\appdata\\local\\packages\\pythonsoftwarefoundation.python.3.9_qbz5n2kfra8p0\\localcache\\local-packages\\python39\\site-packages (from scikit-learn) (3.1.0)\n",
      "Requirement already satisfied: click in c:\\users\\amrit\\appdata\\local\\packages\\pythonsoftwarefoundation.python.3.9_qbz5n2kfra8p0\\localcache\\local-packages\\python39\\site-packages (from nltk) (8.1.7)\n",
      "Collecting regex>=2021.8.3\n",
      "  Using cached regex-2023.10.3-cp39-cp39-win_amd64.whl (269 kB)\n",
      "Requirement already satisfied: tqdm in c:\\users\\amrit\\appdata\\local\\packages\\pythonsoftwarefoundation.python.3.9_qbz5n2kfra8p0\\localcache\\local-packages\\python39\\site-packages (from nltk) (4.63.1)\n",
      "Requirement already satisfied: six>=1.5 in c:\\users\\amrit\\appdata\\local\\packages\\pythonsoftwarefoundation.python.3.9_qbz5n2kfra8p0\\localcache\\local-packages\\python39\\site-packages (from python-dateutil>=2.8.1->pandas) (1.16.0)\n",
      "Requirement already satisfied: colorama in c:\\users\\amrit\\appdata\\local\\packages\\pythonsoftwarefoundation.python.3.9_qbz5n2kfra8p0\\localcache\\local-packages\\python39\\site-packages (from click->nltk) (0.4.6)\n",
      "Installing collected packages: regex, nltk\n",
      "Successfully installed nltk-3.8.1 regex-2023.10.3\n"
     ]
    }
   ],
   "source": [
    "pip install pandas scikit-learn nltk\n"
   ]
  },
  {
   "cell_type": "code",
   "execution_count": 14,
   "metadata": {},
   "outputs": [
    {
     "data": {
      "text/html": [
       "<div>\n",
       "<style scoped>\n",
       "    .dataframe tbody tr th:only-of-type {\n",
       "        vertical-align: middle;\n",
       "    }\n",
       "\n",
       "    .dataframe tbody tr th {\n",
       "        vertical-align: top;\n",
       "    }\n",
       "\n",
       "    .dataframe thead th {\n",
       "        text-align: right;\n",
       "    }\n",
       "</style>\n",
       "<table border=\"1\" class=\"dataframe\">\n",
       "  <thead>\n",
       "    <tr style=\"text-align: right;\">\n",
       "      <th></th>\n",
       "      <th>post</th>\n",
       "    </tr>\n",
       "  </thead>\n",
       "  <tbody>\n",
       "    <tr>\n",
       "      <th>0</th>\n",
       "      <td>Navakerala Sadass brewing in my constituency.</td>\n",
       "    </tr>\n",
       "    <tr>\n",
       "      <th>1</th>\n",
       "      <td>'Navakerala Sadas' took place in four constitu...</td>\n",
       "    </tr>\n",
       "    <tr>\n",
       "      <th>2</th>\n",
       "      <td>#WATCH | Kerala: BJP supporters stage protest ...</td>\n",
       "    </tr>\n",
       "    <tr>\n",
       "      <th>3</th>\n",
       "      <td>eng college കുട്ടികളെ രക്ഷിക്കുന്ന വേറൊരു രീതി...</td>\n",
       "    </tr>\n",
       "    <tr>\n",
       "      <th>4</th>\n",
       "      <td>This bus will be handed over to KSRTC after Na...</td>\n",
       "    </tr>\n",
       "    <tr>\n",
       "      <th>5</th>\n",
       "      <td>Bharat Jodo crowd kidu because it was mostly e...</td>\n",
       "    </tr>\n",
       "    <tr>\n",
       "      <th>6</th>\n",
       "      <td>The schools in my area remain closed today bec...</td>\n",
       "    </tr>\n",
       "    <tr>\n",
       "      <th>7</th>\n",
       "      <td>* Youth congRSS cadres caught red-handed at Ko...</td>\n",
       "    </tr>\n",
       "  </tbody>\n",
       "</table>\n",
       "</div>"
      ],
      "text/plain": [
       "                                                post\n",
       "0      Navakerala Sadass brewing in my constituency.\n",
       "1  'Navakerala Sadas' took place in four constitu...\n",
       "2  #WATCH | Kerala: BJP supporters stage protest ...\n",
       "3  eng college കുട്ടികളെ രക്ഷിക്കുന്ന വേറൊരു രീതി...\n",
       "4  This bus will be handed over to KSRTC after Na...\n",
       "5  Bharat Jodo crowd kidu because it was mostly e...\n",
       "6  The schools in my area remain closed today bec...\n",
       "7  * Youth congRSS cadres caught red-handed at Ko..."
      ]
     },
     "execution_count": 14,
     "metadata": {},
     "output_type": "execute_result"
    }
   ],
   "source": [
    "\n",
    "# df = pd.read_csv('twitter_data.csv')\n",
    "df=pd.DataFrame({'post':twit1})\n",
    "df"
   ]
  },
  {
   "cell_type": "code",
   "execution_count": null,
   "metadata": {},
   "outputs": [],
   "source": [
    "pip install transformers==4.16.0\n"
   ]
  },
  {
   "cell_type": "code",
   "execution_count": 15,
   "metadata": {},
   "outputs": [],
   "source": [
    "from transformers import pipeline\n"
   ]
  },
  {
   "cell_type": "code",
   "execution_count": 16,
   "metadata": {},
   "outputs": [],
   "source": [
    "from googletrans import Translator\n"
   ]
  },
  {
   "cell_type": "code",
   "execution_count": 17,
   "metadata": {},
   "outputs": [
    {
     "name": "stderr",
     "output_type": "stream",
     "text": [
      "No model was supplied, defaulted to distilbert-base-uncased-finetuned-sst-2-english (https://huggingface.co/distilbert-base-uncased-finetuned-sst-2-english)\n",
      "Special tokens have been added in the vocabulary, make sure the associated word embeddings are fine-tuned or trained.\n"
     ]
    }
   ],
   "source": [
    "    #translate anotherb langauage to English\n",
    "translator = Translator()\n",
    "df['post'] = df['post'].apply(lambda x: translator.translate(x, dest='en').text)\n",
    "#sentiment analysis using pipeline transformers\n",
    "df = df['post']\n",
    "nlp_sentence = pipeline('sentiment-analysis')\n"
   ]
  },
  {
   "cell_type": "code",
   "execution_count": 19,
   "metadata": {},
   "outputs": [
    {
     "data": {
      "text/plain": [
       "0        Navakerala Sadass brewing in my constituency.\n",
       "1    'Navakerala Sadas' took place in four constitu...\n",
       "2    #WATCH | Kerala: BJP supporters stage protest ...\n",
       "3    Another method of saving children.\\n@Shamseera...\n",
       "4    This bus will be handed over to KSRTC after Na...\n",
       "5    Bharat Jodo crowd kidu because it was mostly e...\n",
       "6    The schools in my area remain closed today bec...\n",
       "7    * Youth congRSS cadres caught red-handed at Ko...\n",
       "Name: post, dtype: object"
      ]
     },
     "execution_count": 19,
     "metadata": {},
     "output_type": "execute_result"
    }
   ],
   "source": [
    "df"
   ]
  },
  {
   "cell_type": "code",
   "execution_count": 106,
   "metadata": {},
   "outputs": [
    {
     "name": "stderr",
     "output_type": "stream",
     "text": [
      "No model was supplied, defaulted to distilbert-base-uncased-finetuned-sst-2-english (https://huggingface.co/distilbert-base-uncased-finetuned-sst-2-english)\n",
      "Downloading: 100%|██████████| 629/629 [00:00<00:00, 78.8kB/s]\n",
      "Downloading: 100%|██████████| 255M/255M [00:42<00:00, 6.28MB/s] \n",
      "Downloading: 100%|██████████| 48.0/48.0 [00:00<00:00, 6.02kB/s]\n",
      "Downloading: 100%|██████████| 226k/226k [00:00<00:00, 491kB/s] \n",
      "Special tokens have been added in the vocabulary, make sure the associated word embeddings are fine-tuned or trained.\n"
     ]
    }
   ],
   "source": [
    "df = df['post']\n",
    "nlp_sentence = pipeline('sentiment-analysis')\n",
    "\n",
    "def predict_toxicity(comment):\n",
    "    sentiment = nlp_sentence(comment)\n",
    "    return sentiment[0]['label']\n",
    "\n",
    "def count_toxicity(df):\n",
    "    toxic_count = 0\n",
    "    non_toxic_count = 0\n",
    "    for comment in df:\n",
    "        sentiment = predict_toxicity(comment)\n",
    "        if sentiment == 'NEGATIVE':\n",
    "            toxic_count += 1\n",
    "            print(f\"Toxic Comment: {comment}\")\n",
    "        else:\n",
    "            non_toxic_count += 1\n",
    "    return toxic_count, non_toxic_count\n",
    "\n",
    "toxic_count, non_toxic_count = count_toxicity(df)\n",
    "print(f\"Number of toxic comments: {toxic_count}\")\n",
    "print(f\"Number of non-toxic comments: {non_toxic_count}\")\n",
    "\n",
    "# Now, let's predict toxicity for a new comment\n",
    "new_comment = \"You're an idiot person, and I hope someone hits you!\"\n",
    "predicted_sentiment = predict_toxicity(new_comment)\n",
    "if predicted_sentiment == 'NEGATIVE':\n",
    "    print(\"This is a TOXIC comment\")\n",
    "else:\n",
    "    print(\"This is NOT a TOXIC comment\")\n",
    "\n",
    "# Visualize the results\n",
    "import matplotlib.pyplot as plt\n",
    "labels = ['Toxic', 'Non-Toxic']\n",
    "counts = [toxic_count, non_toxic_count]\n",
    "plt.bar(labels, counts)\n",
    "plt.title('Toxic vs. Non-Toxic Comments')\n",
    "plt.show()\n"
   ]
  },
  {
   "cell_type": "code",
   "execution_count": 23,
   "metadata": {},
   "outputs": [
    {
     "name": "stdout",
     "output_type": "stream",
     "text": [
      "Percentage of Positive comments: 75.00%\n",
      "Percentage of Negative comments: 25.00%\n"
     ]
    }
   ],
   "source": [
    "def predict_toxicity(comment):\n",
    "    sentiment = nlp_sentence(comment)\n",
    "    return sentiment[0]['label']\n",
    "def count_toxicity(df):\n",
    "    positive_count = 0\n",
    "    negative_count = 0\n",
    "    for comment in df:\n",
    "        sentiment = predict_toxicity(comment)\n",
    "        if sentiment == 'NEGATIVE':\n",
    "            \n",
    "            positive_count += 1\n",
    "        else:\n",
    "            negative_count += 1\n",
    "\n",
    "    total_comments = positive_count + negative_count\n",
    "    positive_percentage = (positive_count / total_comments) * 100\n",
    "    negative_percentage = (negative_count / total_comments) * 100\n",
    "    return positive_percentage, negative_percentage\n",
    "#get the analysis percentage\n",
    "positive_percentage_total, negative_percentage_total = count_toxicity(df)\n",
    "positive_percentage=(f\"Percentage of Positive comments: {positive_percentage_total:.2f}%\")\n",
    "negative_percentage=(f\"Percentage of Negative comments: {negative_percentage_total:.2f}%\")\n",
    "\n",
    "text = df.values \n",
    "print(positive_percentage)\n",
    "print(negative_percentage)"
   ]
  },
  {
   "cell_type": "code",
   "execution_count": 24,
   "metadata": {},
   "outputs": [
    {
     "data": {
      "text/plain": [
       "array(['Navakerala Sadass brewing in my constituency.',\n",
       "       \"'Navakerala Sadas' took place in four constituencies in the Kannur district, namely Azhikode, Kannur, Dharmadom, and Thalassery. Bringing people together from all walks of life, these lively gatherings witnessed active participation and discussions on the projects accomplished by…\",\n",
       "       \"#WATCH | Kerala: BJP supporters stage protest holding black balloons against allotting 'Saraswati Mandapam' adjacent to Saraswati temple, Poojappura as the organising committee office of Navakerala Sadasu. Police use water canons to disperse the protestors.\",\n",
       "       \"Another method of saving children.\\n@Shamseeran\\nIsn't mytho not myth?Speaker isuing letters to colleges asking students to attend the navakerala bluffing .. New Kerala, No Class\",\n",
       "       'This bus will be handed over to KSRTC after Navakerala Sadasu\\n\\nAlso KSRTC is planning to buy more luxury buses for inter-state long distance travel.\\n#Kerala',\n",
       "       'Bharat Jodo crowd kidu because it was mostly elite class  and son of ex PM Prince Rahulji . Navakerala baaad  because it is the ichichi class crowd and son of a common man Pinarayi Vijayan',\n",
       "       \"The schools in my area remain closed today because the Chief Minister of my state is traveling on a custom-modified BharatBenz luxury coach with many of his ministers for a public outreach program that purportedly aims to highlight the government's achievements to the public.\\n1/4\",\n",
       "       \"* Youth congRSS cadres caught red-handed at Kollam in connection with cannabis deal aimed at X'mas and New Year.\\n* An NSU volunteer detained. He planned drone attack towards #Navakerala_Sadas.....\\n#CongRSS\\n#YputhCongRSS.....\"],\n",
       "      dtype=object)"
      ]
     },
     "execution_count": 24,
     "metadata": {},
     "output_type": "execute_result"
    }
   ],
   "source": [
    "text"
   ]
  },
  {
   "cell_type": "code",
   "execution_count": 8,
   "metadata": {},
   "outputs": [
    {
     "name": "stdout",
     "output_type": "stream",
     "text": [
      "Requirement already satisfied: googletrans==4.0.0-rc1 in c:\\users\\amrit\\appdata\\local\\packages\\pythonsoftwarefoundation.python.3.9_qbz5n2kfra8p0\\localcache\\local-packages\\python39\\site-packages (4.0.0rc1)\n",
      "Requirement already satisfied: httpx==0.13.3 in c:\\users\\amrit\\appdata\\local\\packages\\pythonsoftwarefoundation.python.3.9_qbz5n2kfra8p0\\localcache\\local-packages\\python39\\site-packages (from googletrans==4.0.0-rc1) (0.13.3)\n",
      "Requirement already satisfied: idna==2.* in c:\\users\\amrit\\appdata\\local\\packages\\pythonsoftwarefoundation.python.3.9_qbz5n2kfra8p0\\localcache\\local-packages\\python39\\site-packages (from httpx==0.13.3->googletrans==4.0.0-rc1) (2.10)\n",
      "Requirement already satisfied: hstspreload in c:\\users\\amrit\\appdata\\local\\packages\\pythonsoftwarefoundation.python.3.9_qbz5n2kfra8p0\\localcache\\local-packages\\python39\\site-packages (from httpx==0.13.3->googletrans==4.0.0-rc1) (2023.1.1)\n",
      "Requirement already satisfied: rfc3986<2,>=1.3 in c:\\users\\amrit\\appdata\\local\\packages\\pythonsoftwarefoundation.python.3.9_qbz5n2kfra8p0\\localcache\\local-packages\\python39\\site-packages (from httpx==0.13.3->googletrans==4.0.0-rc1) (1.5.0)\n",
      "Requirement already satisfied: httpcore==0.9.* in c:\\users\\amrit\\appdata\\local\\packages\\pythonsoftwarefoundation.python.3.9_qbz5n2kfra8p0\\localcache\\local-packages\\python39\\site-packages (from httpx==0.13.3->googletrans==4.0.0-rc1) (0.9.1)\n",
      "Requirement already satisfied: sniffio in c:\\users\\amrit\\appdata\\local\\packages\\pythonsoftwarefoundation.python.3.9_qbz5n2kfra8p0\\localcache\\local-packages\\python39\\site-packages (from httpx==0.13.3->googletrans==4.0.0-rc1) (1.2.0)\n",
      "Requirement already satisfied: certifi in c:\\users\\amrit\\appdata\\local\\packages\\pythonsoftwarefoundation.python.3.9_qbz5n2kfra8p0\\localcache\\local-packages\\python39\\site-packages (from httpx==0.13.3->googletrans==4.0.0-rc1) (2022.6.15)\n",
      "Requirement already satisfied: chardet==3.* in c:\\users\\amrit\\appdata\\local\\packages\\pythonsoftwarefoundation.python.3.9_qbz5n2kfra8p0\\localcache\\local-packages\\python39\\site-packages (from httpx==0.13.3->googletrans==4.0.0-rc1) (3.0.4)\n",
      "Requirement already satisfied: h11<0.10,>=0.8 in c:\\users\\amrit\\appdata\\local\\packages\\pythonsoftwarefoundation.python.3.9_qbz5n2kfra8p0\\localcache\\local-packages\\python39\\site-packages (from httpcore==0.9.*->httpx==0.13.3->googletrans==4.0.0-rc1) (0.9.0)\n",
      "Requirement already satisfied: h2==3.* in c:\\users\\amrit\\appdata\\local\\packages\\pythonsoftwarefoundation.python.3.9_qbz5n2kfra8p0\\localcache\\local-packages\\python39\\site-packages (from httpcore==0.9.*->httpx==0.13.3->googletrans==4.0.0-rc1) (3.2.0)\n",
      "Requirement already satisfied: hpack<4,>=3.0 in c:\\users\\amrit\\appdata\\local\\packages\\pythonsoftwarefoundation.python.3.9_qbz5n2kfra8p0\\localcache\\local-packages\\python39\\site-packages (from h2==3.*->httpcore==0.9.*->httpx==0.13.3->googletrans==4.0.0-rc1) (3.0.0)\n",
      "Requirement already satisfied: hyperframe<6,>=5.2.0 in c:\\users\\amrit\\appdata\\local\\packages\\pythonsoftwarefoundation.python.3.9_qbz5n2kfra8p0\\localcache\\local-packages\\python39\\site-packages (from h2==3.*->httpcore==0.9.*->httpx==0.13.3->googletrans==4.0.0-rc1) (5.2.0)\n",
      "Note: you may need to restart the kernel to use updated packages.\n"
     ]
    },
    {
     "name": "stderr",
     "output_type": "stream",
     "text": [
      "WARNING: Ignoring invalid distribution -illow (c:\\users\\amrit\\appdata\\local\\packages\\pythonsoftwarefoundation.python.3.9_qbz5n2kfra8p0\\localcache\\local-packages\\python39\\site-packages)\n",
      "WARNING: Ignoring invalid distribution -illow (c:\\users\\amrit\\appdata\\local\\packages\\pythonsoftwarefoundation.python.3.9_qbz5n2kfra8p0\\localcache\\local-packages\\python39\\site-packages)\n",
      "WARNING: Ignoring invalid distribution -illow (c:\\users\\amrit\\appdata\\local\\packages\\pythonsoftwarefoundation.python.3.9_qbz5n2kfra8p0\\localcache\\local-packages\\python39\\site-packages)\n",
      "WARNING: Ignoring invalid distribution -illow (c:\\users\\amrit\\appdata\\local\\packages\\pythonsoftwarefoundation.python.3.9_qbz5n2kfra8p0\\localcache\\local-packages\\python39\\site-packages)\n",
      "WARNING: Ignoring invalid distribution -illow (c:\\users\\amrit\\appdata\\local\\packages\\pythonsoftwarefoundation.python.3.9_qbz5n2kfra8p0\\localcache\\local-packages\\python39\\site-packages)\n",
      "WARNING: Ignoring invalid distribution -illow (c:\\users\\amrit\\appdata\\local\\packages\\pythonsoftwarefoundation.python.3.9_qbz5n2kfra8p0\\localcache\\local-packages\\python39\\site-packages)\n",
      "WARNING: You are using pip version 22.0.4; however, version 23.3.1 is available.\n",
      "You should consider upgrading via the 'C:\\Users\\amrit\\AppData\\Local\\Microsoft\\WindowsApps\\PythonSoftwareFoundation.Python.3.9_qbz5n2kfra8p0\\python.exe -m pip install --upgrade pip' command.\n"
     ]
    }
   ],
   "source": [
    "# pip install --upgrade googletrans==4.0.0-rc1"
   ]
  },
  {
   "cell_type": "code",
   "execution_count": null,
   "metadata": {},
   "outputs": [],
   "source": [
    "#word cloud generatig\n",
    "import pandas as pd\n",
    "from googletrans import Translator\n",
    "translator = Translator()\n",
    "df = pd.read_csv('twitter_data11111111000.csv')\n",
    "\n",
    "df['post'] = df['post'].apply(lambda x: translator.translate(x, dest='en').text)\n",
    "df = df['post']\n",
    "\n"
   ]
  },
  {
   "cell_type": "code",
   "execution_count": null,
   "metadata": {},
   "outputs": [],
   "source": [
    "\n",
    "text = df['Crime type'].values \n",
    "\n",
    "wordcloud = WordCloud().generate(str(text))\n",
    "\n",
    "plt.imshow(wordcloud)\n",
    "plt.axis(\"off\")\n",
    "plt.show()"
   ]
  },
  {
   "cell_type": "code",
   "execution_count": 27,
   "metadata": {},
   "outputs": [
    {
     "name": "stdout",
     "output_type": "stream",
     "text": [
      "Note: you may need to restart the kernel to use updated packages.Collecting wordcloud\n",
      "  Downloading wordcloud-1.9.3-cp39-cp39-win_amd64.whl (300 kB)\n",
      "     -------------------------------------- 300.6/300.6 KB 2.1 MB/s eta 0:00:00\n",
      "Requirement already satisfied: matplotlib in c:\\users\\amrit\\appdata\\local\\packages\\pythonsoftwarefoundation.python.3.9_qbz5n2kfra8p0\\localcache\\local-packages\\python39\\site-packages (from wordcloud) (3.5.1)\n",
      "Requirement already satisfied: pillow in c:\\users\\amrit\\appdata\\local\\packages\\pythonsoftwarefoundation.python.3.9_qbz5n2kfra8p0\\localcache\\local-packages\\python39\\site-packages (from wordcloud) (10.0.1)\n",
      "Requirement already satisfied: numpy>=1.6.1 in c:\\users\\amrit\\appdata\\local\\packages\\pythonsoftwarefoundation.python.3.9_qbz5n2kfra8p0\\localcache\\local-packages\\python39\\site-packages (from wordcloud) (1.24.4)\n",
      "Requirement already satisfied: fonttools>=4.22.0 in c:\\users\\amrit\\appdata\\local\\packages\\pythonsoftwarefoundation.python.3.9_qbz5n2kfra8p0\\localcache\\local-packages\\python39\\site-packages (from matplotlib->wordcloud) (4.31.2)\n",
      "Requirement already satisfied: kiwisolver>=1.0.1 in c:\\users\\amrit\\appdata\\local\\packages\\pythonsoftwarefoundation.python.3.9_qbz5n2kfra8p0\\localcache\\local-packages\\python39\\site-packages (from matplotlib->wordcloud) (1.4.2)\n",
      "Requirement already satisfied: python-dateutil>=2.7 in c:\\users\\amrit\\appdata\\local\\packages\\pythonsoftwarefoundation.python.3.9_qbz5n2kfra8p0\\localcache\\local-packages\\python39\\site-packages (from matplotlib->wordcloud) (2.8.2)\n",
      "Requirement already satisfied: packaging>=20.0 in c:\\users\\amrit\\appdata\\local\\packages\\pythonsoftwarefoundation.python.3.9_qbz5n2kfra8p0\\localcache\\local-packages\\python39\\site-packages (from matplotlib->wordcloud) (21.3)\n",
      "Requirement already satisfied: cycler>=0.10 in c:\\users\\amrit\\appdata\\local\\packages\\pythonsoftwarefoundation.python.3.9_qbz5n2kfra8p0\\localcache\\local-packages\\python39\\site-packages (from matplotlib->wordcloud) (0.11.0)\n",
      "Requirement already satisfied: pyparsing>=2.2.1 in c:\\users\\amrit\\appdata\\local\\packages\\pythonsoftwarefoundation.python.3.9_qbz5n2kfra8p0\\localcache\\local-packages\\python39\\site-packages (from matplotlib->wordcloud) (3.0.7)\n",
      "Requirement already satisfied: six>=1.5 in c:\\users\\amrit\\appdata\\local\\packages\\pythonsoftwarefoundation.python.3.9_qbz5n2kfra8p0\\localcache\\local-packages\\python39\\site-packages (from python-dateutil>=2.7->matplotlib->wordcloud) (1.16.0)\n",
      "Installing collected packages: wordcloud\n",
      "Successfully installed wordcloud-1.9.3\n",
      "\n"
     ]
    },
    {
     "name": "stderr",
     "output_type": "stream",
     "text": [
      "WARNING: Ignoring invalid distribution -illow (c:\\users\\amrit\\appdata\\local\\packages\\pythonsoftwarefoundation.python.3.9_qbz5n2kfra8p0\\localcache\\local-packages\\python39\\site-packages)\n",
      "WARNING: Ignoring invalid distribution -illow (c:\\users\\amrit\\appdata\\local\\packages\\pythonsoftwarefoundation.python.3.9_qbz5n2kfra8p0\\localcache\\local-packages\\python39\\site-packages)\n",
      "WARNING: Ignoring invalid distribution -illow (c:\\users\\amrit\\appdata\\local\\packages\\pythonsoftwarefoundation.python.3.9_qbz5n2kfra8p0\\localcache\\local-packages\\python39\\site-packages)\n",
      "WARNING: Ignoring invalid distribution -illow (c:\\users\\amrit\\appdata\\local\\packages\\pythonsoftwarefoundation.python.3.9_qbz5n2kfra8p0\\localcache\\local-packages\\python39\\site-packages)\n",
      "WARNING: Ignoring invalid distribution -illow (c:\\users\\amrit\\appdata\\local\\packages\\pythonsoftwarefoundation.python.3.9_qbz5n2kfra8p0\\localcache\\local-packages\\python39\\site-packages)\n",
      "WARNING: Ignoring invalid distribution -illow (c:\\users\\amrit\\appdata\\local\\packages\\pythonsoftwarefoundation.python.3.9_qbz5n2kfra8p0\\localcache\\local-packages\\python39\\site-packages)\n",
      "WARNING: Ignoring invalid distribution -illow (c:\\users\\amrit\\appdata\\local\\packages\\pythonsoftwarefoundation.python.3.9_qbz5n2kfra8p0\\localcache\\local-packages\\python39\\site-packages)\n",
      "WARNING: You are using pip version 22.0.4; however, version 23.3.2 is available.\n",
      "You should consider upgrading via the 'C:\\Users\\amrit\\AppData\\Local\\Microsoft\\WindowsApps\\PythonSoftwareFoundation.Python.3.9_qbz5n2kfra8p0\\python.exe -m pip install --upgrade pip' command.\n"
     ]
    }
   ],
   "source": [
    "pip install wordcloud"
   ]
  },
  {
   "cell_type": "code",
   "execution_count": 28,
   "metadata": {},
   "outputs": [],
   "source": [
    "# Generate Word Cloud\n",
    "from io import BytesIO\n",
    "import base64\n",
    "from wordcloud import WordCloud \n",
    "wordcloud = WordCloud().generate(str(text))\n",
    "\n",
    "# Convert Word Cloud image to base64 to display in HTML\n",
    "img = BytesIO()\n",
    "wordcloud.to_image().save(img, format='PNG')\n",
    "img.seek(0)\n",
    "img_base64 = base64.b64encode(img.getvalue()).decode()\n",
    "\n"
   ]
  },
  {
   "cell_type": "code",
   "execution_count": 31,
   "metadata": {},
   "outputs": [],
   "source": [
    "# Visualize the results\n",
    "import matplotlib.pyplot as plt\n",
    "labels = ['POSITIVE', 'NEGATIVE']\n",
    "counts = [positive_percentage_total, negative_percentage_total]\n",
    "\n",
    "plt.figure(figsize=(4,3))  # Adjust figure size if needed\n",
    "\n",
    "plt.bar(labels, counts)\n",
    "plt.title('Positive vs. Negative Twitter Posts')\n",
    "\n",
    "\n",
    "# Save plot to a BytesIO object\n",
    "img = BytesIO()\n",
    "plt.savefig(img, format='png')\n",
    "img.seek(0)\n",
    "\n",
    "# Convert the plot image to base64 encoding\n",
    "img_base64plot = base64.b64encode(img.getvalue()).decode()\n",
    "\n",
    "plt.close()  # Close the plot to release memory\n"
   ]
  },
  {
   "cell_type": "code",
   "execution_count": null,
   "metadata": {},
   "outputs": [],
   "source": []
  }
 ],
 "metadata": {
  "kernelspec": {
   "display_name": "Python 3",
   "language": "python",
   "name": "python3"
  },
  "language_info": {
   "codemirror_mode": {
    "name": "ipython",
    "version": 3
   },
   "file_extension": ".py",
   "mimetype": "text/x-python",
   "name": "python",
   "nbconvert_exporter": "python",
   "pygments_lexer": "ipython3",
   "version": "3.9.13"
  }
 },
 "nbformat": 4,
 "nbformat_minor": 2
}
